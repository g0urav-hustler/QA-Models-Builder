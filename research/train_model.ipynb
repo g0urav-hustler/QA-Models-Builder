{
 "cells": [
  {
   "cell_type": "code",
   "execution_count": 1,
   "metadata": {},
   "outputs": [],
   "source": [
    "import os"
   ]
  },
  {
   "cell_type": "code",
   "execution_count": 2,
   "metadata": {},
   "outputs": [
    {
     "name": "stdout",
     "output_type": "stream",
     "text": [
      "/home/gourav/ML/QA_Models_Builder/research\n"
     ]
    }
   ],
   "source": [
    "!pwd"
   ]
  },
  {
   "cell_type": "code",
   "execution_count": 3,
   "metadata": {},
   "outputs": [],
   "source": [
    "os.chdir(\"../\")"
   ]
  },
  {
   "cell_type": "code",
   "execution_count": 4,
   "metadata": {},
   "outputs": [
    {
     "name": "stdout",
     "output_type": "stream",
     "text": [
      "/home/gourav/ML/QA_Models_Builder\n"
     ]
    }
   ],
   "source": [
    "!pwd"
   ]
  },
  {
   "cell_type": "code",
   "execution_count": 16,
   "metadata": {},
   "outputs": [],
   "source": [
    "from dataclasses import dataclass\n",
    "from pathlib import Path\n",
    "\n",
    "@dataclass(frozen= True)\n",
    "class TrainModelConfig:\n",
    "    train_data_path: Path \n",
    "    val_data_path: Path\n",
    "    save_model_dir: Path\n",
    "    model_type : str\n",
    "    model_name : str\n",
    "    epochs : int\n",
    "    train_batch_size : int\n",
    "    val_batch_size : int\n"
   ]
  },
  {
   "cell_type": "code",
   "execution_count": 17,
   "metadata": {},
   "outputs": [],
   "source": [
    "from src.BERT.constants import *\n",
    "from src.BERT.utils.common import read_yaml, create_directories"
   ]
  },
  {
   "cell_type": "code",
   "execution_count": 22,
   "metadata": {},
   "outputs": [],
   "source": [
    "class ConfigurationManager:\n",
    "\n",
    "    def __init__(\n",
    "        self,\n",
    "        config_filepath = CONFIG_FILE_PATH,\n",
    "        params_filepath = PARAMS_FILE_PATH):\n",
    "\n",
    "        self.config = read_yaml(config_filepath)\n",
    "        self.params = read_yaml(params_filepath)\n",
    "\n",
    "        create_directories([self.config.artifacts_root])\n",
    "\n",
    "    def get_train_model_config(self) -> TrainModelConfig:\n",
    "\n",
    "        config = self.config.train_model\n",
    "        params = self.params.model_params\n",
    "\n",
    "        train_model_config = TrainModelConfig(\n",
    "            train_data_path= config.train_data_path,\n",
    "            val_data_path= config.val_data_path,\n",
    "            save_model_dir= config.save_model_dir,\n",
    "\n",
    "            model_type = params.model_type,\n",
    "            model_name = params.model_name,\n",
    "            epochs = params.epochs,\n",
    "            train_batch_size = params.train_batch_size,\n",
    "            val_batch_size = params.val_batch_size\n",
    "        )\n",
    "\n",
    "        return train_model_config"
   ]
  },
  {
   "cell_type": "code",
   "execution_count": 23,
   "metadata": {},
   "outputs": [
    {
     "name": "stdout",
     "output_type": "stream",
     "text": [
      "[2024-05-16 12:37:58,231: INFO: common: yaml file: config/config.yaml loaded successfully]\n",
      "[2024-05-16 12:37:58,238: INFO: common: yaml file: params.yaml loaded successfully]\n",
      "[2024-05-16 12:37:58,240: INFO: common: already created directory: artifacts]\n"
     ]
    }
   ],
   "source": [
    "conf = ConfigurationManager()\n",
    "train_model = conf.get_train_model_config()"
   ]
  },
  {
   "cell_type": "code",
   "execution_count": 25,
   "metadata": {},
   "outputs": [],
   "source": [
    "import torch\n",
    "from src.BERT.utils.common import load_json\n",
    "from simpletransformers.question_answering import QuestionAnsweringModel"
   ]
  },
  {
   "cell_type": "code",
   "execution_count": null,
   "metadata": {},
   "outputs": [],
   "source": [
    "class TrainModel:\n",
    "    def __init__(self):\n",
    "        pass\n",
    "\n",
    "    def train_model(self, config = TrainModelConfig):\n",
    "        config = self.config\n",
    "\n",
    "        training_args = {\n",
    "            \"num_train_epochs\": config.epochs,\n",
    "            \"train_batch_size\": config.train_batch_size,\n",
    "            \"eval_batch_size\": config.val_batch_size,\n",
    "            \"max_seq_length\": 128,\n",
    "            \"output_dir\": config.save_model_dir,\n",
    "            \"overwrite_output_dir\": True,\n",
    "        }\n",
    "\n",
    "\n",
    "        model = QuestionAnsweringModel(\n",
    "                    config.model_type,\n",
    "                    config.model_name, \n",
    "                    args=training_args,\n",
    "                    use_cuda = False\n",
    "        )\n",
    "\n",
    "        model.train_model(config.train_data_path)\n",
    "\n"
   ]
  }
 ],
 "metadata": {
  "kernelspec": {
   "display_name": "qa_env",
   "language": "python",
   "name": "python3"
  },
  "language_info": {
   "codemirror_mode": {
    "name": "ipython",
    "version": 3
   },
   "file_extension": ".py",
   "mimetype": "text/x-python",
   "name": "python",
   "nbconvert_exporter": "python",
   "pygments_lexer": "ipython3",
   "version": "3.8.10"
  }
 },
 "nbformat": 4,
 "nbformat_minor": 2
}
