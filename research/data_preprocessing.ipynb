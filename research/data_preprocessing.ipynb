{
 "cells": [
  {
   "cell_type": "code",
   "execution_count": 1,
   "metadata": {},
   "outputs": [],
   "source": [
    "import os"
   ]
  },
  {
   "cell_type": "code",
   "execution_count": 2,
   "metadata": {},
   "outputs": [
    {
     "name": "stdout",
     "output_type": "stream",
     "text": [
      "/home/gourav/ML/QA_Models_Builder/research\n"
     ]
    }
   ],
   "source": [
    "!pwd"
   ]
  },
  {
   "cell_type": "code",
   "execution_count": 3,
   "metadata": {},
   "outputs": [],
   "source": [
    "os.chdir(\"../\")"
   ]
  },
  {
   "cell_type": "code",
   "execution_count": 4,
   "metadata": {},
   "outputs": [
    {
     "name": "stdout",
     "output_type": "stream",
     "text": [
      "/home/gourav/ML/QA_Models_Builder\n"
     ]
    }
   ],
   "source": [
    "!pwd"
   ]
  },
  {
   "cell_type": "code",
   "execution_count": 5,
   "metadata": {},
   "outputs": [],
   "source": [
    "from dataclasses import dataclass\n",
    "from pathlib import Path\n",
    "\n",
    "@dataclass(frozen= True)\n",
    "class DataProcessing:\n",
    "    raw_data_dir: Path\n",
    "    processed_data_dir : Path\n",
    "    split_data_dir : Path\n",
    "\n",
    "    context_col: str\n",
    "    question_col : str\n",
    "    answer_col : str\n",
    "    answer_start_col : str\n",
    "\n",
    "    train_data_size: float\n",
    "    val_data_size: float\n",
    "\n"
   ]
  },
  {
   "cell_type": "code",
   "execution_count": 6,
   "metadata": {},
   "outputs": [],
   "source": [
    "from src.BERT.constants import *\n",
    "from src.BERT.utils.common import read_yaml, create_directories, save_json"
   ]
  },
  {
   "cell_type": "code",
   "execution_count": 7,
   "metadata": {},
   "outputs": [],
   "source": [
    "class ConfigurationManager:\n",
    "\n",
    "    def __init__(\n",
    "        self,\n",
    "        config_filepath = CONFIG_FILE_PATH,\n",
    "        params_filepath = PARAMS_FILE_PATH):\n",
    "\n",
    "        self.config = read_yaml(config_filepath)\n",
    "        self.params = read_yaml(params_filepath)\n",
    "\n",
    "        create_directories([self.config.artifacts_root])\n",
    "\n",
    "    def get_data_processing_config(self) ->DataProcessing:\n",
    "\n",
    "        config = self.config.data_processing\n",
    "        params = self.params.data_processing\n",
    "\n",
    "        create_directories([config.processed_data_dir, config.split_data_dir])\n",
    "\n",
    "        data_processing_config = DataProcessing(\n",
    "            raw_data_dir= config.raw_data_dir,\n",
    "            processed_data_dir= config.processed_data_dir,\n",
    "            split_data_dir= config.split_data_dir,\n",
    "\n",
    "            context_col= params.context_col,\n",
    "            question_col= params.question_col,\n",
    "            answer_col= params.answer_col,\n",
    "            answer_start_col= params.answer_start_col,\n",
    "\n",
    "            train_data_size= params.train_data_size,\n",
    "            val_data_size= params.val_data_size\n",
    "        )\n",
    "\n",
    "\n",
    "        return data_processing_config\n"
   ]
  },
  {
   "cell_type": "code",
   "execution_count": 8,
   "metadata": {},
   "outputs": [],
   "source": [
    "import pandas as pd\n",
    "from src.BERT.utils.common import save_json, load_json, join_path"
   ]
  },
  {
   "cell_type": "code",
   "execution_count": 20,
   "metadata": {},
   "outputs": [],
   "source": [
    "class DataPreprocessing():\n",
    "    def __init__(self, config = DataProcessing):\n",
    "        self.config = config\n",
    "\n",
    "    def find_word_index(self, context, answer):\n",
    "        for word in answer.split(\" \"):\n",
    "            res = context.find(word)\n",
    "            if res != -1:\n",
    "                return res\n",
    "        return -1\n",
    "    \n",
    "    def create_json_dataset(self, context_list, question_list, answer_list , ans_start_list):\n",
    "\n",
    "        data = []\n",
    "        ids = 1\n",
    "        \n",
    "        for i in range(len(context_list)):\n",
    "            context = context_list[i]\n",
    "            question = question_list[i]\n",
    "            answer = answer_list[i]\n",
    "\n",
    "            if ans_start_list == None:\n",
    "                if context.find(answer) == -1:\n",
    "                    ans_start = self.find_word_index(context, answer)\n",
    "                else:\n",
    "                    ans_start = context.find(answer)\n",
    "            else:\n",
    "                ans_start = ans_start_list[i]\n",
    "\n",
    "            \n",
    "            q_a_dict = {\n",
    "                            \"id\": str(ids).zfill(5),\n",
    "                            \"is_impossible\": False,\n",
    "                            \"question\": question,\n",
    "                            \"answers\": [\n",
    "                                {\n",
    "                                    \"text\": answer,\n",
    "                                    \"answer_start\": int(ans_start),\n",
    "                                }\n",
    "                            ]\n",
    "                    }\n",
    "            ids = ids + 1\n",
    "\n",
    "            row_dict = {\n",
    "                \"context\" : context,\n",
    "                \"qas\": q_a_dict\n",
    "            }\n",
    "\n",
    "            data.append(row_dict)\n",
    "\n",
    "        return data\n",
    "\n",
    "    \n",
    "    def get_processed_data(self):\n",
    "\n",
    "        data_file = os.listdir(self.config.raw_data_dir)[0]\n",
    "        data_file_path = join_path(self.config.raw_data_dir, data_file)\n",
    "\n",
    "        df = pd.read_csv(data_file_path, nrows= 10)\n",
    "\n",
    "        context_list = df[self.config.context_col].to_list()\n",
    "        question_list = df[self.config.question_col].to_list()\n",
    "        answer_list = df[self.config.answer_col].to_list()\n",
    "        answer_start_list = df[self.config.answer_start_col].to_list()\n",
    "\n",
    "        processed_data = self.create_json_dataset(context_list,question_list, answer_list, answer_start_list)\n",
    "\n",
    "        \n",
    "        save_json(Path(os.path.join(self.config.processed_data_dir, \"processed_data.json\")), processed_data)\n",
    "\n",
    "    \n",
    "    def get_split_data(self):\n",
    "        \n",
    "        processed_data = load_json(Path(join_path(self.config.processed_data_dir, \"processed_data.json\")))\n",
    "\n",
    "        train_range = int((100*self.config.train_data_size)/ len(processed_data))\n",
    "        val_range = int((100*self.config.val_data_size)/ len(processed_data))\n",
    "\n",
    "        train_data = processed_data[:train_range]\n",
    "        val_data = processed_data[-(val_range):]\n",
    "\n",
    "        \n",
    "        # save training data\n",
    "        save_json(Path(join_path(self.config.split_data_dir, \"train_data.json\")), train_data)\n",
    "\n",
    "        # save val data\n",
    "        save_json(Path(join_path(self.config.split_data_dir, \"val_data.json\")), val_data)\n",
    "\n",
    "\n",
    "        \n"
   ]
  },
  {
   "cell_type": "code",
   "execution_count": 21,
   "metadata": {},
   "outputs": [
    {
     "name": "stdout",
     "output_type": "stream",
     "text": [
      "[2024-05-15 14:08:17,264: INFO: common: yaml file: config/config.yaml loaded successfully]\n",
      "[2024-05-15 14:08:17,273: INFO: common: yaml file: params.yaml loaded successfully]\n",
      "[2024-05-15 14:08:17,282: INFO: common: already created directory: artifacts]\n",
      "[2024-05-15 14:08:17,285: INFO: common: already created directory: artifacts/processed_data]\n",
      "[2024-05-15 14:08:17,295: INFO: common: already created directory: artifacts/split_data]\n",
      "Index(['Unnamed: 0', 'context', 'question', 'id', 'answer_start', 'text'], dtype='object')\n",
      "context\n",
      "<class 'str'>\n",
      "Processing data started\n",
      "artifacts/processed_data\n",
      "artifacts/processed_data/processed_data.json\n",
      "[2024-05-15 14:08:17,312: INFO: common: json file saved at: artifacts/processed_data/processed_data.json]\n",
      "[2024-05-15 14:08:17,316: INFO: common: json file loaded succesfully from: artifacts/processed_data/processed_data.json]\n",
      "[2024-05-15 14:08:17,321: INFO: common: json file saved at: artifacts/split_data/train_data.json]\n",
      "[2024-05-15 14:08:17,324: INFO: common: json file saved at: artifacts/split_data/val_data.json]\n"
     ]
    }
   ],
   "source": [
    "config = ConfigurationManager()\n",
    "\n",
    "data_processing_config = config.get_data_processing_config()\n",
    "\n",
    "data_preprocessing = DataPreprocessing(data_processing_config)\n",
    "data_preprocessing.get_processed_data()\n",
    "\n",
    "data_preprocessing.get_split_data()"
   ]
  },
  {
   "cell_type": "code",
   "execution_count": 12,
   "metadata": {},
   "outputs": [
    {
     "name": "stdout",
     "output_type": "stream",
     "text": [
      "[2024-05-15 14:04:29,394: INFO: common: yaml file: config/config.yaml loaded successfully]\n",
      "[2024-05-15 14:04:29,400: INFO: common: yaml file: params.yaml loaded successfully]\n",
      "[2024-05-15 14:04:29,402: INFO: common: already created directory: artifacts]\n",
      "[2024-05-15 14:04:29,404: INFO: common: already created directory: artifacts/processed_data]\n",
      "[2024-05-15 14:04:29,405: INFO: common: already created directory: artifacts/split_data]\n",
      "'context'\n"
     ]
    }
   ],
   "source": [
    "try:\n",
    "    config = ConfigurationManager()\n",
    "\n",
    "    data_processing_config = config.get_data_processing_config()\n",
    "\n",
    "    data_preprocessing = DataPreprocessing(data_processing_config)\n",
    "    data_preprocessing.get_processed_data()\n",
    "\n",
    "    data_preprocessing.get_split_data()\n",
    "\n",
    "except Exception as e:\n",
    "    print(e)"
   ]
  },
  {
   "cell_type": "code",
   "execution_count": null,
   "metadata": {},
   "outputs": [],
   "source": []
  }
 ],
 "metadata": {
  "kernelspec": {
   "display_name": "qa_env",
   "language": "python",
   "name": "python3"
  },
  "language_info": {
   "codemirror_mode": {
    "name": "ipython",
    "version": 3
   },
   "file_extension": ".py",
   "mimetype": "text/x-python",
   "name": "python",
   "nbconvert_exporter": "python",
   "pygments_lexer": "ipython3",
   "version": "3.8.10"
  }
 },
 "nbformat": 4,
 "nbformat_minor": 2
}
